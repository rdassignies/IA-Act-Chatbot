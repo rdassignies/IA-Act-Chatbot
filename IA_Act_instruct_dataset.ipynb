{
  "nbformat": 4,
  "nbformat_minor": 0,
  "metadata": {
    "colab": {
      "provenance": [],
      "authorship_tag": "ABX9TyPO/n3JrlVTzR9K0Fx1SpXK",
      "include_colab_link": true
    },
    "kernelspec": {
      "name": "python3",
      "display_name": "Python 3"
    },
    "language_info": {
      "name": "python"
    },
    "widgets": {
      "application/vnd.jupyter.widget-state+json": {
        "3866925437904cbe9ab585cc23ec2e05": {
          "model_module": "@jupyter-widgets/controls",
          "model_name": "HBoxModel",
          "model_module_version": "1.5.0",
          "state": {
            "_dom_classes": [],
            "_model_module": "@jupyter-widgets/controls",
            "_model_module_version": "1.5.0",
            "_model_name": "HBoxModel",
            "_view_count": null,
            "_view_module": "@jupyter-widgets/controls",
            "_view_module_version": "1.5.0",
            "_view_name": "HBoxView",
            "box_style": "",
            "children": [
              "IPY_MODEL_edfd09b07dd543c5af2887bbc2567e87",
              "IPY_MODEL_bbce8454099543e0bb307c27f5e49bee",
              "IPY_MODEL_f36a9da7c39047b3a1a295e122e3a83f"
            ],
            "layout": "IPY_MODEL_ea0250983ee94075b12c4cbfa09abf47"
          }
        },
        "edfd09b07dd543c5af2887bbc2567e87": {
          "model_module": "@jupyter-widgets/controls",
          "model_name": "HTMLModel",
          "model_module_version": "1.5.0",
          "state": {
            "_dom_classes": [],
            "_model_module": "@jupyter-widgets/controls",
            "_model_module_version": "1.5.0",
            "_model_name": "HTMLModel",
            "_view_count": null,
            "_view_module": "@jupyter-widgets/controls",
            "_view_module_version": "1.5.0",
            "_view_name": "HTMLView",
            "description": "",
            "description_tooltip": null,
            "layout": "IPY_MODEL_c6d1a3215ab240a6946813d5d9d703dd",
            "placeholder": "​",
            "style": "IPY_MODEL_86f90735a8c34c108c0f1680e79ef3d0",
            "value": "Parsing nodes: 100%"
          }
        },
        "bbce8454099543e0bb307c27f5e49bee": {
          "model_module": "@jupyter-widgets/controls",
          "model_name": "FloatProgressModel",
          "model_module_version": "1.5.0",
          "state": {
            "_dom_classes": [],
            "_model_module": "@jupyter-widgets/controls",
            "_model_module_version": "1.5.0",
            "_model_name": "FloatProgressModel",
            "_view_count": null,
            "_view_module": "@jupyter-widgets/controls",
            "_view_module_version": "1.5.0",
            "_view_name": "ProgressView",
            "bar_style": "success",
            "description": "",
            "description_tooltip": null,
            "layout": "IPY_MODEL_d5d1f8a1d12c4555b060c36ba4697379",
            "max": 10,
            "min": 0,
            "orientation": "horizontal",
            "style": "IPY_MODEL_71d9e8df305e4c6fabc86f6613316721",
            "value": 10
          }
        },
        "f36a9da7c39047b3a1a295e122e3a83f": {
          "model_module": "@jupyter-widgets/controls",
          "model_name": "HTMLModel",
          "model_module_version": "1.5.0",
          "state": {
            "_dom_classes": [],
            "_model_module": "@jupyter-widgets/controls",
            "_model_module_version": "1.5.0",
            "_model_name": "HTMLModel",
            "_view_count": null,
            "_view_module": "@jupyter-widgets/controls",
            "_view_module_version": "1.5.0",
            "_view_name": "HTMLView",
            "description": "",
            "description_tooltip": null,
            "layout": "IPY_MODEL_af6a8c282f2d42c3aa45868128b11665",
            "placeholder": "​",
            "style": "IPY_MODEL_59cd7a6965d1439d9db2a686e50d8051",
            "value": " 10/10 [00:00&lt;00:00, 229.38it/s]"
          }
        },
        "ea0250983ee94075b12c4cbfa09abf47": {
          "model_module": "@jupyter-widgets/base",
          "model_name": "LayoutModel",
          "model_module_version": "1.2.0",
          "state": {
            "_model_module": "@jupyter-widgets/base",
            "_model_module_version": "1.2.0",
            "_model_name": "LayoutModel",
            "_view_count": null,
            "_view_module": "@jupyter-widgets/base",
            "_view_module_version": "1.2.0",
            "_view_name": "LayoutView",
            "align_content": null,
            "align_items": null,
            "align_self": null,
            "border": null,
            "bottom": null,
            "display": null,
            "flex": null,
            "flex_flow": null,
            "grid_area": null,
            "grid_auto_columns": null,
            "grid_auto_flow": null,
            "grid_auto_rows": null,
            "grid_column": null,
            "grid_gap": null,
            "grid_row": null,
            "grid_template_areas": null,
            "grid_template_columns": null,
            "grid_template_rows": null,
            "height": null,
            "justify_content": null,
            "justify_items": null,
            "left": null,
            "margin": null,
            "max_height": null,
            "max_width": null,
            "min_height": null,
            "min_width": null,
            "object_fit": null,
            "object_position": null,
            "order": null,
            "overflow": null,
            "overflow_x": null,
            "overflow_y": null,
            "padding": null,
            "right": null,
            "top": null,
            "visibility": null,
            "width": null
          }
        },
        "c6d1a3215ab240a6946813d5d9d703dd": {
          "model_module": "@jupyter-widgets/base",
          "model_name": "LayoutModel",
          "model_module_version": "1.2.0",
          "state": {
            "_model_module": "@jupyter-widgets/base",
            "_model_module_version": "1.2.0",
            "_model_name": "LayoutModel",
            "_view_count": null,
            "_view_module": "@jupyter-widgets/base",
            "_view_module_version": "1.2.0",
            "_view_name": "LayoutView",
            "align_content": null,
            "align_items": null,
            "align_self": null,
            "border": null,
            "bottom": null,
            "display": null,
            "flex": null,
            "flex_flow": null,
            "grid_area": null,
            "grid_auto_columns": null,
            "grid_auto_flow": null,
            "grid_auto_rows": null,
            "grid_column": null,
            "grid_gap": null,
            "grid_row": null,
            "grid_template_areas": null,
            "grid_template_columns": null,
            "grid_template_rows": null,
            "height": null,
            "justify_content": null,
            "justify_items": null,
            "left": null,
            "margin": null,
            "max_height": null,
            "max_width": null,
            "min_height": null,
            "min_width": null,
            "object_fit": null,
            "object_position": null,
            "order": null,
            "overflow": null,
            "overflow_x": null,
            "overflow_y": null,
            "padding": null,
            "right": null,
            "top": null,
            "visibility": null,
            "width": null
          }
        },
        "86f90735a8c34c108c0f1680e79ef3d0": {
          "model_module": "@jupyter-widgets/controls",
          "model_name": "DescriptionStyleModel",
          "model_module_version": "1.5.0",
          "state": {
            "_model_module": "@jupyter-widgets/controls",
            "_model_module_version": "1.5.0",
            "_model_name": "DescriptionStyleModel",
            "_view_count": null,
            "_view_module": "@jupyter-widgets/base",
            "_view_module_version": "1.2.0",
            "_view_name": "StyleView",
            "description_width": ""
          }
        },
        "d5d1f8a1d12c4555b060c36ba4697379": {
          "model_module": "@jupyter-widgets/base",
          "model_name": "LayoutModel",
          "model_module_version": "1.2.0",
          "state": {
            "_model_module": "@jupyter-widgets/base",
            "_model_module_version": "1.2.0",
            "_model_name": "LayoutModel",
            "_view_count": null,
            "_view_module": "@jupyter-widgets/base",
            "_view_module_version": "1.2.0",
            "_view_name": "LayoutView",
            "align_content": null,
            "align_items": null,
            "align_self": null,
            "border": null,
            "bottom": null,
            "display": null,
            "flex": null,
            "flex_flow": null,
            "grid_area": null,
            "grid_auto_columns": null,
            "grid_auto_flow": null,
            "grid_auto_rows": null,
            "grid_column": null,
            "grid_gap": null,
            "grid_row": null,
            "grid_template_areas": null,
            "grid_template_columns": null,
            "grid_template_rows": null,
            "height": null,
            "justify_content": null,
            "justify_items": null,
            "left": null,
            "margin": null,
            "max_height": null,
            "max_width": null,
            "min_height": null,
            "min_width": null,
            "object_fit": null,
            "object_position": null,
            "order": null,
            "overflow": null,
            "overflow_x": null,
            "overflow_y": null,
            "padding": null,
            "right": null,
            "top": null,
            "visibility": null,
            "width": null
          }
        },
        "71d9e8df305e4c6fabc86f6613316721": {
          "model_module": "@jupyter-widgets/controls",
          "model_name": "ProgressStyleModel",
          "model_module_version": "1.5.0",
          "state": {
            "_model_module": "@jupyter-widgets/controls",
            "_model_module_version": "1.5.0",
            "_model_name": "ProgressStyleModel",
            "_view_count": null,
            "_view_module": "@jupyter-widgets/base",
            "_view_module_version": "1.2.0",
            "_view_name": "StyleView",
            "bar_color": null,
            "description_width": ""
          }
        },
        "af6a8c282f2d42c3aa45868128b11665": {
          "model_module": "@jupyter-widgets/base",
          "model_name": "LayoutModel",
          "model_module_version": "1.2.0",
          "state": {
            "_model_module": "@jupyter-widgets/base",
            "_model_module_version": "1.2.0",
            "_model_name": "LayoutModel",
            "_view_count": null,
            "_view_module": "@jupyter-widgets/base",
            "_view_module_version": "1.2.0",
            "_view_name": "LayoutView",
            "align_content": null,
            "align_items": null,
            "align_self": null,
            "border": null,
            "bottom": null,
            "display": null,
            "flex": null,
            "flex_flow": null,
            "grid_area": null,
            "grid_auto_columns": null,
            "grid_auto_flow": null,
            "grid_auto_rows": null,
            "grid_column": null,
            "grid_gap": null,
            "grid_row": null,
            "grid_template_areas": null,
            "grid_template_columns": null,
            "grid_template_rows": null,
            "height": null,
            "justify_content": null,
            "justify_items": null,
            "left": null,
            "margin": null,
            "max_height": null,
            "max_width": null,
            "min_height": null,
            "min_width": null,
            "object_fit": null,
            "object_position": null,
            "order": null,
            "overflow": null,
            "overflow_x": null,
            "overflow_y": null,
            "padding": null,
            "right": null,
            "top": null,
            "visibility": null,
            "width": null
          }
        },
        "59cd7a6965d1439d9db2a686e50d8051": {
          "model_module": "@jupyter-widgets/controls",
          "model_name": "DescriptionStyleModel",
          "model_module_version": "1.5.0",
          "state": {
            "_model_module": "@jupyter-widgets/controls",
            "_model_module_version": "1.5.0",
            "_model_name": "DescriptionStyleModel",
            "_view_count": null,
            "_view_module": "@jupyter-widgets/base",
            "_view_module_version": "1.2.0",
            "_view_name": "StyleView",
            "description_width": ""
          }
        },
        "5fceacf1713546bfa817bd2d4c45f489": {
          "model_module": "@jupyter-widgets/output",
          "model_name": "OutputModel",
          "model_module_version": "1.0.0",
          "state": {
            "_dom_classes": [],
            "_model_module": "@jupyter-widgets/output",
            "_model_module_version": "1.0.0",
            "_model_name": "OutputModel",
            "_view_count": null,
            "_view_module": "@jupyter-widgets/output",
            "_view_module_version": "1.0.0",
            "_view_name": "OutputView",
            "layout": "IPY_MODEL_ec3b3f915a884b4186b504bbaed76a0b",
            "msg_id": "",
            "outputs": [
              {
                "output_type": "display_data",
                "data": {
                  "text/plain": "Pushing records to Argilla... \u001b[38;2;249;38;114m━━━━━━━━━━━━━━━━━━━━━━━━━━━━━━━━\u001b[0m\u001b[38;5;237m╺\u001b[0m\u001b[38;5;237m━━━━━━━\u001b[0m \u001b[35m 80%\u001b[0m \u001b[36m-:--:--\u001b[0m\n",
                  "text/html": "<pre style=\"white-space:pre;overflow-x:auto;line-height:normal;font-family:Menlo,'DejaVu Sans Mono',consolas,'Courier New',monospace\">Pushing records to Argilla... <span style=\"color: #f92672; text-decoration-color: #f92672\">━━━━━━━━━━━━━━━━━━━━━━━━━━━━━━━━</span><span style=\"color: #3a3a3a; text-decoration-color: #3a3a3a\">╺━━━━━━━</span> <span style=\"color: #800080; text-decoration-color: #800080\"> 80%</span> <span style=\"color: #008080; text-decoration-color: #008080\">-:--:--</span>\n</pre>\n"
                },
                "metadata": {}
              }
            ]
          }
        },
        "ec3b3f915a884b4186b504bbaed76a0b": {
          "model_module": "@jupyter-widgets/base",
          "model_name": "LayoutModel",
          "model_module_version": "1.2.0",
          "state": {
            "_model_module": "@jupyter-widgets/base",
            "_model_module_version": "1.2.0",
            "_model_name": "LayoutModel",
            "_view_count": null,
            "_view_module": "@jupyter-widgets/base",
            "_view_module_version": "1.2.0",
            "_view_name": "LayoutView",
            "align_content": null,
            "align_items": null,
            "align_self": null,
            "border": null,
            "bottom": null,
            "display": null,
            "flex": null,
            "flex_flow": null,
            "grid_area": null,
            "grid_auto_columns": null,
            "grid_auto_flow": null,
            "grid_auto_rows": null,
            "grid_column": null,
            "grid_gap": null,
            "grid_row": null,
            "grid_template_areas": null,
            "grid_template_columns": null,
            "grid_template_rows": null,
            "height": null,
            "justify_content": null,
            "justify_items": null,
            "left": null,
            "margin": null,
            "max_height": null,
            "max_width": null,
            "min_height": null,
            "min_width": null,
            "object_fit": null,
            "object_position": null,
            "order": null,
            "overflow": null,
            "overflow_x": null,
            "overflow_y": null,
            "padding": null,
            "right": null,
            "top": null,
            "visibility": null,
            "width": null
          }
        }
      }
    }
  },
  "cells": [
    {
      "cell_type": "markdown",
      "metadata": {
        "id": "view-in-github",
        "colab_type": "text"
      },
      "source": [
        "<a href=\"https://colab.research.google.com/github/rdassignies/IA-Act-Chatbot/blob/main/IA_Act_instruct_dataset.ipynb\" target=\"_parent\"><img src=\"https://colab.research.google.com/assets/colab-badge.svg\" alt=\"Open In Colab\"/></a>"
      ]
    },
    {
      "cell_type": "code",
      "execution_count": null,
      "metadata": {
        "id": "gyBPu591peJz"
      },
      "outputs": [],
      "source": [
        "!pip install llama-index"
      ]
    },
    {
      "cell_type": "code",
      "source": [
        "!pip install argilla"
      ],
      "metadata": {
        "colab": {
          "base_uri": "https://localhost:8080/",
          "height": 1000
        },
        "collapsed": true,
        "id": "Hl6JLTV1p558",
        "outputId": "87240374-ed59-47b3-8916-036cc402a7c5"
      },
      "execution_count": 5,
      "outputs": [
        {
          "output_type": "stream",
          "name": "stdout",
          "text": [
            "Collecting argilla\n",
            "  Downloading argilla-1.28.0-py3-none-any.whl (421 kB)\n",
            "\u001b[2K     \u001b[90m━━━━━━━━━━━━━━━━━━━━━━━━━━━━━━━━━━━━━━━━\u001b[0m \u001b[32m421.2/421.2 kB\u001b[0m \u001b[31m2.8 MB/s\u001b[0m eta \u001b[36m0:00:00\u001b[0m\n",
            "\u001b[?25hCollecting httpx<=0.26,>=0.15 (from argilla)\n",
            "  Downloading httpx-0.26.0-py3-none-any.whl (75 kB)\n",
            "\u001b[2K     \u001b[90m━━━━━━━━━━━━━━━━━━━━━━━━━━━━━━━━━━━━━━━━\u001b[0m \u001b[32m75.9/75.9 kB\u001b[0m \u001b[31m8.4 MB/s\u001b[0m eta \u001b[36m0:00:00\u001b[0m\n",
            "\u001b[?25hRequirement already satisfied: deprecated~=1.2.0 in /usr/local/lib/python3.10/dist-packages (from argilla) (1.2.14)\n",
            "Requirement already satisfied: packaging>=20.0 in /usr/local/lib/python3.10/dist-packages (from argilla) (24.0)\n",
            "Requirement already satisfied: pandas>=1.0.0 in /usr/local/lib/python3.10/dist-packages (from argilla) (2.0.3)\n",
            "Requirement already satisfied: pydantic>=1.10.7 in /usr/local/lib/python3.10/dist-packages (from argilla) (2.7.1)\n",
            "Requirement already satisfied: wrapt<1.15,>=1.13 in /usr/local/lib/python3.10/dist-packages (from argilla) (1.14.1)\n",
            "Collecting numpy<1.24.0 (from argilla)\n",
            "  Downloading numpy-1.23.5-cp310-cp310-manylinux_2_17_x86_64.manylinux2014_x86_64.whl (17.1 MB)\n",
            "\u001b[2K     \u001b[90m━━━━━━━━━━━━━━━━━━━━━━━━━━━━━━━━━━━━━━━━\u001b[0m \u001b[32m17.1/17.1 MB\u001b[0m \u001b[31m46.0 MB/s\u001b[0m eta \u001b[36m0:00:00\u001b[0m\n",
            "\u001b[?25hRequirement already satisfied: tqdm>=4.27.0 in /usr/local/lib/python3.10/dist-packages (from argilla) (4.66.4)\n",
            "Collecting backoff (from argilla)\n",
            "  Downloading backoff-2.2.1-py3-none-any.whl (15 kB)\n",
            "Collecting monotonic (from argilla)\n",
            "  Downloading monotonic-1.6-py2.py3-none-any.whl (8.2 kB)\n",
            "Requirement already satisfied: rich!=13.1.0 in /usr/local/lib/python3.10/dist-packages (from argilla) (13.7.1)\n",
            "Requirement already satisfied: typer<0.10.0,>=0.6.0 in /usr/local/lib/python3.10/dist-packages (from argilla) (0.9.4)\n",
            "Requirement already satisfied: anyio in /usr/local/lib/python3.10/dist-packages (from httpx<=0.26,>=0.15->argilla) (3.7.1)\n",
            "Requirement already satisfied: certifi in /usr/local/lib/python3.10/dist-packages (from httpx<=0.26,>=0.15->argilla) (2024.2.2)\n",
            "Requirement already satisfied: httpcore==1.* in /usr/local/lib/python3.10/dist-packages (from httpx<=0.26,>=0.15->argilla) (1.0.5)\n",
            "Requirement already satisfied: idna in /usr/local/lib/python3.10/dist-packages (from httpx<=0.26,>=0.15->argilla) (3.7)\n",
            "Requirement already satisfied: sniffio in /usr/local/lib/python3.10/dist-packages (from httpx<=0.26,>=0.15->argilla) (1.3.1)\n",
            "Requirement already satisfied: h11<0.15,>=0.13 in /usr/local/lib/python3.10/dist-packages (from httpcore==1.*->httpx<=0.26,>=0.15->argilla) (0.14.0)\n",
            "Requirement already satisfied: python-dateutil>=2.8.2 in /usr/local/lib/python3.10/dist-packages (from pandas>=1.0.0->argilla) (2.8.2)\n",
            "Requirement already satisfied: pytz>=2020.1 in /usr/local/lib/python3.10/dist-packages (from pandas>=1.0.0->argilla) (2023.4)\n",
            "Requirement already satisfied: tzdata>=2022.1 in /usr/local/lib/python3.10/dist-packages (from pandas>=1.0.0->argilla) (2024.1)\n",
            "Requirement already satisfied: annotated-types>=0.4.0 in /usr/local/lib/python3.10/dist-packages (from pydantic>=1.10.7->argilla) (0.6.0)\n",
            "Requirement already satisfied: pydantic-core==2.18.2 in /usr/local/lib/python3.10/dist-packages (from pydantic>=1.10.7->argilla) (2.18.2)\n",
            "Requirement already satisfied: typing-extensions>=4.6.1 in /usr/local/lib/python3.10/dist-packages (from pydantic>=1.10.7->argilla) (4.11.0)\n",
            "Requirement already satisfied: markdown-it-py>=2.2.0 in /usr/local/lib/python3.10/dist-packages (from rich!=13.1.0->argilla) (3.0.0)\n",
            "Requirement already satisfied: pygments<3.0.0,>=2.13.0 in /usr/local/lib/python3.10/dist-packages (from rich!=13.1.0->argilla) (2.16.1)\n",
            "Requirement already satisfied: click<9.0.0,>=7.1.1 in /usr/local/lib/python3.10/dist-packages (from typer<0.10.0,>=0.6.0->argilla) (8.1.7)\n",
            "Requirement already satisfied: mdurl~=0.1 in /usr/local/lib/python3.10/dist-packages (from markdown-it-py>=2.2.0->rich!=13.1.0->argilla) (0.1.2)\n",
            "Requirement already satisfied: six>=1.5 in /usr/local/lib/python3.10/dist-packages (from python-dateutil>=2.8.2->pandas>=1.0.0->argilla) (1.16.0)\n",
            "Requirement already satisfied: exceptiongroup in /usr/local/lib/python3.10/dist-packages (from anyio->httpx<=0.26,>=0.15->argilla) (1.2.1)\n",
            "Installing collected packages: monotonic, numpy, backoff, httpx, argilla\n",
            "  Attempting uninstall: numpy\n",
            "    Found existing installation: numpy 1.25.2\n",
            "    Uninstalling numpy-1.25.2:\n",
            "      Successfully uninstalled numpy-1.25.2\n",
            "  Attempting uninstall: httpx\n",
            "    Found existing installation: httpx 0.27.0\n",
            "    Uninstalling httpx-0.27.0:\n",
            "      Successfully uninstalled httpx-0.27.0\n",
            "\u001b[31mERROR: pip's dependency resolver does not currently take into account all the packages that are installed. This behaviour is the source of the following dependency conflicts.\n",
            "chex 0.1.86 requires numpy>=1.24.1, but you have numpy 1.23.5 which is incompatible.\n",
            "pandas-stubs 2.0.3.230814 requires numpy>=1.25.0; python_version >= \"3.9\", but you have numpy 1.23.5 which is incompatible.\u001b[0m\u001b[31m\n",
            "\u001b[0mSuccessfully installed argilla-1.28.0 backoff-2.2.1 httpx-0.26.0 monotonic-1.6 numpy-1.23.5\n"
          ]
        },
        {
          "output_type": "display_data",
          "data": {
            "application/vnd.colab-display-data+json": {
              "pip_warning": {
                "packages": [
                  "numpy"
                ]
              },
              "id": "d4bc304ab4914839947f1ad8a52c6d7e"
            }
          },
          "metadata": {}
        }
      ]
    },
    {
      "cell_type": "markdown",
      "source": [
        "## Installation d'Argilla\n",
        "Argilla est une plateforme open-source conçue pour faciliter la gestion, l'annotation, et la visualisation de jeux de données textuels utilisés dans le traitement du langage naturel (NLP). Elle permet aux utilisateurs de créer, modifier, et explorer des jeux de données de manière collaborative et efficace.\n",
        "Elle permet notamment de créer des \"feedbackdataset\" particulièrement adapté pour construire des jeux de données qui nécessitent des annotations humaines par rapport aux sorties des LLMs."
      ],
      "metadata": {
        "id": "tmRH75TEsB16"
      }
    },
    {
      "cell_type": "code",
      "source": [
        "import argilla as rg\n",
        "rg.init(\n",
        "            api_url=ARGILLA_API_URL,\n",
        "            api_key=ARGILLA_API_KEY,\n",
        "            #extra_headers = {'HF_TOKEN': HF_TOKEN}\n",
        "            extra_headers={\"Authorization\": f\"Bearer {HF_TOKEN}\"}\n",
        "        )"
      ],
      "metadata": {
        "colab": {
          "base_uri": "https://localhost:8080/"
        },
        "collapsed": true,
        "id": "weT2Ty7JqT8r",
        "outputId": "3c5f5cd7-5309-47d1-a781-b7ad38123a37"
      },
      "execution_count": 10,
      "outputs": [
        {
          "output_type": "stream",
          "name": "stderr",
          "text": [
            "/usr/local/lib/python3.10/dist-packages/argilla/client/client.py:178: UserWarning: No workspace configuration was detected. To work with Argilla datasets, specify a valid workspace name on `rg.init` or set it up through the `rg.set_workspace` function.\n",
            "  warnings.warn(\n",
            "/usr/local/lib/python3.10/dist-packages/argilla/client/client.py:195: UserWarning: You're connecting to Argilla Server 1.23.1 using a different client version (1.28.0).\n",
            "This may lead to potential compatibility issues during your experience.\n",
            "To ensure a seamless and optimized connection, we highly recommend aligning your client version with the server version.\n",
            "  warnings.warn(\n"
          ]
        }
      ]
    },
    {
      "cell_type": "markdown",
      "source": [
        "### Création du feedbackdataset\n",
        "Le dataset comprend 2 types de champs :\n",
        "- les textes qui comprennent les questions et les réponses fournies par des humains ou le modèle\n",
        "- un champ permettant de noter la qualité de la réponse\n",
        "- un champ permettant d'expliquer la correction\n"
      ],
      "metadata": {
        "id": "CDjH0-_5sk6q"
      }
    },
    {
      "cell_type": "code",
      "source": [
        "dataset = rg.FeedbackDataset(\n",
        "            guidelines=\"Ce jeux de données visent à optimiser les réponses d'un modèle de langage sur l'IA Act.\",\n",
        "            fields=[\n",
        "                rg.TextField(name=\"question\", title=\"Synthetic question\"),\n",
        "                rg.TextField(name=\"human_question\", title=\"Human question\"),\n",
        "                rg.TextField(name=\"answer\", title=\"Generated output\", use_markdown=True),\n",
        "                rg.TextField(name=\"human_answer\", title=\"human output\", use_markdown=True)\n",
        "\n",
        "            ],\n",
        "            questions =[\n",
        "                rg.RatingQuestion(\n",
        "                    name=\"rating\",\n",
        "                    title=\"Rate the quality of the response:\",\n",
        "                    description=\"1 = very bad - 5= very good\",\n",
        "                    required=True,\n",
        "                    values=[1,2,3,4,5]\n",
        "                ),\n",
        "                rg.TextQuestion(\n",
        "                    name=\"corrected-text\",\n",
        "                    title=\"Provide a correction to the response:\",\n",
        "                    required=False,\n",
        "                    use_markdown=True\n",
        "                )\n",
        "            ]\n",
        "        )"
      ],
      "metadata": {
        "id": "Kq9LBYooqElb"
      },
      "execution_count": 11,
      "outputs": []
    },
    {
      "cell_type": "code",
      "source": [
        "from llama_index.core.llama_dataset.generator import RagDatasetGenerator\n",
        "from llama_index.core.prompts.base import PromptTemplate\n",
        "from llama_index.core import SimpleDirectoryReader, VectorStoreIndex\n",
        "\n",
        "from llama_index.llms.openai import OpenAI\n",
        "\n",
        "import nest_asyncio\n",
        "nest_asyncio.apply()"
      ],
      "metadata": {
        "id": "AnqPTqeRqNUk"
      },
      "execution_count": 15,
      "outputs": []
    },
    {
      "cell_type": "code",
      "source": [
        "reader = SimpleDirectoryReader(input_dir=\"docs/\")\n",
        "documents = reader.load_data()"
      ],
      "metadata": {
        "id": "jBgjpooQrC7S"
      },
      "execution_count": 16,
      "outputs": []
    },
    {
      "cell_type": "code",
      "source": [
        "FR_QUESTION_GENERATION_PROMPT = \"\"\"\\\n",
        "Voici les informations, tirées d'un règelement européen, dont tu disposes :\n",
        "---------------------\n",
        "{context_str}\n",
        "---------------------\n",
        "En tant que spécialiste du droit des nouvelles technologies, ton objectif est de générer 2 questions juridiques pour évaluer la compréhension du texte\n",
        "ou pour susciter une compréhension plus fine du texte. Les questions doivent être strictement corrélées\n",
        "avec les informations fournies. Les questions doivent être rédigées en français et formulées de manière précise et concise. Les questions\n",
        "doivent également être diverses et s'adapter au contexte fourni.\n",
        "{query_str}\n",
        "\"\"\"\n",
        "FR_ANSWER_GENERATION_PROMPT = \"\"\"\\\n",
        "Voici les informations, tirées d'un règlement européen, dont tu disposes :\n",
        "---------------------\n",
        "{context_str}\n",
        "---------------------\n",
        "En te basant sur ces informations et sans recourir à des connaissances préalables,\n",
        "génère la réponse à la question suivante :\n",
        "{query_str}\n",
        "\"\"\"\n",
        "\n",
        "fr_question_generation_template = PromptTemplate(template=FR_QUESTION_GENERATION_PROMPT)\n",
        "fr_answer_generation_template = PromptTemplate(template=FR_ANSWER_GENERATION_PROMPT,)"
      ],
      "metadata": {
        "id": "GQMnA_PIrX9e"
      },
      "execution_count": 17,
      "outputs": []
    },
    {
      "cell_type": "markdown",
      "source": [
        "### Customisation des prompts\n",
        "Llama-index fournit par défaut des prompts en anglais qu'il faut adapter. Cette partie peut être grandement affinée pour obtenir un résultat plus performant, notamment en termes de diversité dans les questions posées.\n",
        "\n",
        "### Génération des questions/réponses synthétiques\n",
        "Llama-index possède une classe prête à l'emploi pour effectuer cette tâche. Dans notre exemple, nous ne prenons que dix morceaux de texte pour générer les questions/réponses. Cependant, dans la réalité, nous prendrons l'intégralité de l'IA Act."
      ],
      "metadata": {
        "id": "BJBuXgZmuYCC"
      }
    },
    {
      "cell_type": "code",
      "source": [
        "llm = OpenAI(model=\"gpt-3.5-turbo\", temperature=0.1, api_key=OPENAI_API_KEY)\n",
        "\n",
        "dataset_generator = RagDatasetGenerator.from_documents(\n",
        "\n",
        "    documents[90:100],\n",
        "    text_question_template =  fr_question_generation_template,\n",
        "    text_qa_template = fr_answer_generation_template,\n",
        "    #question_gen_query = fr_question_query_template,\n",
        "    llm=llm,\n",
        "    num_questions_per_chunk=2,  # set the number of questions per nodes\n",
        "    show_progress=True,\n",
        ")"
      ],
      "metadata": {
        "colab": {
          "base_uri": "https://localhost:8080/",
          "height": 49,
          "referenced_widgets": [
            "3866925437904cbe9ab585cc23ec2e05",
            "edfd09b07dd543c5af2887bbc2567e87",
            "bbce8454099543e0bb307c27f5e49bee",
            "f36a9da7c39047b3a1a295e122e3a83f",
            "ea0250983ee94075b12c4cbfa09abf47",
            "c6d1a3215ab240a6946813d5d9d703dd",
            "86f90735a8c34c108c0f1680e79ef3d0",
            "d5d1f8a1d12c4555b060c36ba4697379",
            "71d9e8df305e4c6fabc86f6613316721",
            "af6a8c282f2d42c3aa45868128b11665",
            "59cd7a6965d1439d9db2a686e50d8051"
          ]
        },
        "id": "T4BDExsUrvnf",
        "outputId": "dcc5ec29-806f-48f7-a445-da00682ad350"
      },
      "execution_count": 25,
      "outputs": [
        {
          "output_type": "display_data",
          "data": {
            "text/plain": [
              "Parsing nodes:   0%|          | 0/10 [00:00<?, ?it/s]"
            ],
            "application/vnd.jupyter.widget-view+json": {
              "version_major": 2,
              "version_minor": 0,
              "model_id": "3866925437904cbe9ab585cc23ec2e05"
            }
          },
          "metadata": {}
        }
      ]
    },
    {
      "cell_type": "markdown",
      "source": [
        "### Utilisation d'un LLM pour générer des questions/réponses synthétiques\n",
        "Dans notre exemple, nous utilisons un 'vieux' modèle d'OpenAI pour des raisons de coût. Il est parfaitement possible d'utiliser des modèles plus récents et d'autres fournisseurs (Mistral, Cohere, etc. )"
      ],
      "metadata": {
        "id": "nfLU6j5uuo83"
      }
    },
    {
      "cell_type": "code",
      "source": [
        "rag_dataset = dataset_generator.generate_dataset_from_nodes()"
      ],
      "metadata": {
        "colab": {
          "base_uri": "https://localhost:8080/"
        },
        "collapsed": true,
        "id": "GADv0f_Dr3GG",
        "outputId": "7c0b8b26-9b77-4a7d-e4fd-a117697f94cd"
      },
      "execution_count": 26,
      "outputs": [
        {
          "output_type": "stream",
          "name": "stderr",
          "text": [
            "\n",
            "  0%|          | 0/10 [00:00<?, ?it/s]\u001b[A\n",
            " 10%|█         | 1/10 [00:02<00:21,  2.43s/it]\u001b[A\n",
            " 40%|████      | 4/10 [00:03<00:04,  1.40it/s]\u001b[A\n",
            " 50%|█████     | 5/10 [00:05<00:05,  1.06s/it]\u001b[A\n",
            " 60%|██████    | 6/10 [00:06<00:03,  1.01it/s]\u001b[A\n",
            " 70%|███████   | 7/10 [00:06<00:02,  1.33it/s]\u001b[A\n",
            " 80%|████████  | 8/10 [00:06<00:01,  1.54it/s]\u001b[A\n",
            " 90%|█████████ | 9/10 [00:07<00:00,  1.54it/s]\u001b[A\n",
            "100%|██████████| 10/10 [00:08<00:00,  1.21it/s]\n",
            "\n",
            "  0%|          | 0/2 [00:00<?, ?it/s]\u001b[A\n",
            " 50%|█████     | 1/2 [00:02<00:02,  2.89s/it]\u001b[A\n",
            "100%|██████████| 2/2 [00:04<00:00,  2.12s/it]\n",
            "\n",
            "  0%|          | 0/2 [00:00<?, ?it/s]\u001b[A\n",
            " 50%|█████     | 1/2 [00:02<00:02,  2.34s/it]\u001b[A\n",
            "100%|██████████| 2/2 [00:03<00:00,  1.81s/it]\n",
            "\n",
            "  0%|          | 0/2 [00:00<?, ?it/s]\u001b[A\n",
            " 50%|█████     | 1/2 [00:03<00:03,  3.54s/it]\u001b[A\n",
            "100%|██████████| 2/2 [00:06<00:00,  3.24s/it]\n",
            "\n",
            "  0%|          | 0/2 [00:00<?, ?it/s]\u001b[A\n",
            " 50%|█████     | 1/2 [00:03<00:03,  3.92s/it]\u001b[A\n",
            "100%|██████████| 2/2 [00:07<00:00,  3.56s/it]\n",
            "\n",
            "  0%|          | 0/2 [00:00<?, ?it/s]\u001b[A\n",
            " 50%|█████     | 1/2 [00:02<00:02,  2.71s/it]\u001b[A\n",
            "100%|██████████| 2/2 [00:02<00:00,  1.44s/it]\n",
            "\n",
            "  0%|          | 0/2 [00:00<?, ?it/s]\u001b[A\n",
            " 50%|█████     | 1/2 [00:03<00:03,  3.46s/it]\u001b[A\n",
            "100%|██████████| 2/2 [00:04<00:00,  2.10s/it]\n",
            "\n",
            "  0%|          | 0/2 [00:00<?, ?it/s]\u001b[A\n",
            " 50%|█████     | 1/2 [00:02<00:02,  2.98s/it]\u001b[A\n",
            "100%|██████████| 2/2 [00:04<00:00,  2.05s/it]\n",
            "\n",
            "  0%|          | 0/2 [00:00<?, ?it/s]\u001b[A\n",
            " 50%|█████     | 1/2 [00:04<00:04,  4.03s/it]\u001b[A\n",
            "100%|██████████| 2/2 [00:04<00:00,  2.23s/it]\n",
            "\n",
            "  0%|          | 0/2 [00:00<?, ?it/s]\u001b[A\n",
            " 50%|█████     | 1/2 [00:05<00:05,  5.16s/it]\u001b[A\n",
            "100%|██████████| 2/2 [00:06<00:00,  3.22s/it]\n",
            "\n",
            "  0%|          | 0/2 [00:00<?, ?it/s]\u001b[A\n",
            " 50%|█████     | 1/2 [00:03<00:03,  3.81s/it]\u001b[A\n",
            "100%|██████████| 2/2 [00:06<00:00,  3.17s/it]\n"
          ]
        }
      ]
    },
    {
      "cell_type": "code",
      "source": [
        "df = rag_dataset.to_pandas()\n",
        "df[:10][['query', 'reference_contexts', 'reference_answer']]"
      ],
      "metadata": {
        "colab": {
          "base_uri": "https://localhost:8080/",
          "height": 537
        },
        "id": "lmMEX5U7tnnd",
        "outputId": "d9afdd07-4ef9-4277-b9ac-d5492af7f2ff"
      },
      "execution_count": 41,
      "outputs": [
        {
          "output_type": "execute_result",
          "data": {
            "text/plain": [
              "                                               query  \\\n",
              "0  Quelles sont les obligations qui s'appliquent ...   \n",
              "1  Comment les modèles d'IA à usage général prése...   \n",
              "2  Quel rôle et quelle responsabilité particulier...   \n",
              "3  Quelles mesures de transparence proportionnées...   \n",
              "4  Quelles sont les conditions requises pour qu'u...   \n",
              "5  Quels sont les critères qui déterminent si un ...   \n",
              "6  Quelles sont les conditions sous lesquelles le...   \n",
              "7  Pourquoi la publication de modèles d'IA à usag...   \n",
              "8  Quelles sont les conditions sous lesquelles le...   \n",
              "9  Quelles sont les exceptions et limitations int...   \n",
              "\n",
              "                                  reference_contexts  \\\n",
              "0  [FRUnie dans la diversitéFRLorsque le fourniss...   \n",
              "1  [FRUnie dans la diversitéFRLorsque le fourniss...   \n",
              "2  [FRUnie dans la diversitéFR(100) Lorsqu'un mod...   \n",
              "3  [FRUnie dans la diversitéFR(100) Lorsqu'un mod...   \n",
              "4  [FRUnie dans la diversitéFR(102) Les logiciels...   \n",
              "5  [FRUnie dans la diversitéFR(102) Les logiciels...   \n",
              "6  [FRUnie dans la diversitéFR(104) Les fournisse...   \n",
              "7  [FRUnie dans la diversitéFR(104) Les fournisse...   \n",
              "8  [FRUnie dans la diversitéFR(105) Les modèles d...   \n",
              "9  [FRUnie dans la diversitéFR(105) Les modèles d...   \n",
              "\n",
              "                                    reference_answer  \n",
              "0  Selon le règlement européen mentionné dans le ...  \n",
              "1  Les modèles d'IA à usage général présentant un...  \n",
              "2  Les fournisseurs de modèles d'IA à usage génér...  \n",
              "3  Les fournisseurs de modèles d'IA à usage génér...  \n",
              "4  Pour qu'un modèle d'IA à usage général publié ...  \n",
              "5  Selon le règlement européen évoqué, un composa...  \n",
              "6  Les fournisseurs de modèles d'IA à usage génér...  \n",
              "7  La publication de modèles d'IA à usage général...  \n",
              "8  Les fournisseurs de modèles d'IA à usage génér...  \n",
              "9  Les exceptions et limitations introduites par ...  "
            ],
            "text/html": [
              "\n",
              "  <div id=\"df-edf551df-62c9-4d17-85c9-050d14ddb295\" class=\"colab-df-container\">\n",
              "    <div>\n",
              "<style scoped>\n",
              "    .dataframe tbody tr th:only-of-type {\n",
              "        vertical-align: middle;\n",
              "    }\n",
              "\n",
              "    .dataframe tbody tr th {\n",
              "        vertical-align: top;\n",
              "    }\n",
              "\n",
              "    .dataframe thead th {\n",
              "        text-align: right;\n",
              "    }\n",
              "</style>\n",
              "<table border=\"1\" class=\"dataframe\">\n",
              "  <thead>\n",
              "    <tr style=\"text-align: right;\">\n",
              "      <th></th>\n",
              "      <th>query</th>\n",
              "      <th>reference_contexts</th>\n",
              "      <th>reference_answer</th>\n",
              "    </tr>\n",
              "  </thead>\n",
              "  <tbody>\n",
              "    <tr>\n",
              "      <th>0</th>\n",
              "      <td>Quelles sont les obligations qui s'appliquent ...</td>\n",
              "      <td>[FRUnie dans la diversitéFRLorsque le fourniss...</td>\n",
              "      <td>Selon le règlement européen mentionné dans le ...</td>\n",
              "    </tr>\n",
              "    <tr>\n",
              "      <th>1</th>\n",
              "      <td>Comment les modèles d'IA à usage général prése...</td>\n",
              "      <td>[FRUnie dans la diversitéFRLorsque le fourniss...</td>\n",
              "      <td>Les modèles d'IA à usage général présentant un...</td>\n",
              "    </tr>\n",
              "    <tr>\n",
              "      <th>2</th>\n",
              "      <td>Quel rôle et quelle responsabilité particulier...</td>\n",
              "      <td>[FRUnie dans la diversitéFR(100) Lorsqu'un mod...</td>\n",
              "      <td>Les fournisseurs de modèles d'IA à usage génér...</td>\n",
              "    </tr>\n",
              "    <tr>\n",
              "      <th>3</th>\n",
              "      <td>Quelles mesures de transparence proportionnées...</td>\n",
              "      <td>[FRUnie dans la diversitéFR(100) Lorsqu'un mod...</td>\n",
              "      <td>Les fournisseurs de modèles d'IA à usage génér...</td>\n",
              "    </tr>\n",
              "    <tr>\n",
              "      <th>4</th>\n",
              "      <td>Quelles sont les conditions requises pour qu'u...</td>\n",
              "      <td>[FRUnie dans la diversitéFR(102) Les logiciels...</td>\n",
              "      <td>Pour qu'un modèle d'IA à usage général publié ...</td>\n",
              "    </tr>\n",
              "    <tr>\n",
              "      <th>5</th>\n",
              "      <td>Quels sont les critères qui déterminent si un ...</td>\n",
              "      <td>[FRUnie dans la diversitéFR(102) Les logiciels...</td>\n",
              "      <td>Selon le règlement européen évoqué, un composa...</td>\n",
              "    </tr>\n",
              "    <tr>\n",
              "      <th>6</th>\n",
              "      <td>Quelles sont les conditions sous lesquelles le...</td>\n",
              "      <td>[FRUnie dans la diversitéFR(104) Les fournisse...</td>\n",
              "      <td>Les fournisseurs de modèles d'IA à usage génér...</td>\n",
              "    </tr>\n",
              "    <tr>\n",
              "      <th>7</th>\n",
              "      <td>Pourquoi la publication de modèles d'IA à usag...</td>\n",
              "      <td>[FRUnie dans la diversitéFR(104) Les fournisse...</td>\n",
              "      <td>La publication de modèles d'IA à usage général...</td>\n",
              "    </tr>\n",
              "    <tr>\n",
              "      <th>8</th>\n",
              "      <td>Quelles sont les conditions sous lesquelles le...</td>\n",
              "      <td>[FRUnie dans la diversitéFR(105) Les modèles d...</td>\n",
              "      <td>Les fournisseurs de modèles d'IA à usage génér...</td>\n",
              "    </tr>\n",
              "    <tr>\n",
              "      <th>9</th>\n",
              "      <td>Quelles sont les exceptions et limitations int...</td>\n",
              "      <td>[FRUnie dans la diversitéFR(105) Les modèles d...</td>\n",
              "      <td>Les exceptions et limitations introduites par ...</td>\n",
              "    </tr>\n",
              "  </tbody>\n",
              "</table>\n",
              "</div>\n",
              "    <div class=\"colab-df-buttons\">\n",
              "\n",
              "  <div class=\"colab-df-container\">\n",
              "    <button class=\"colab-df-convert\" onclick=\"convertToInteractive('df-edf551df-62c9-4d17-85c9-050d14ddb295')\"\n",
              "            title=\"Convert this dataframe to an interactive table.\"\n",
              "            style=\"display:none;\">\n",
              "\n",
              "  <svg xmlns=\"http://www.w3.org/2000/svg\" height=\"24px\" viewBox=\"0 -960 960 960\">\n",
              "    <path d=\"M120-120v-720h720v720H120Zm60-500h600v-160H180v160Zm220 220h160v-160H400v160Zm0 220h160v-160H400v160ZM180-400h160v-160H180v160Zm440 0h160v-160H620v160ZM180-180h160v-160H180v160Zm440 0h160v-160H620v160Z\"/>\n",
              "  </svg>\n",
              "    </button>\n",
              "\n",
              "  <style>\n",
              "    .colab-df-container {\n",
              "      display:flex;\n",
              "      gap: 12px;\n",
              "    }\n",
              "\n",
              "    .colab-df-convert {\n",
              "      background-color: #E8F0FE;\n",
              "      border: none;\n",
              "      border-radius: 50%;\n",
              "      cursor: pointer;\n",
              "      display: none;\n",
              "      fill: #1967D2;\n",
              "      height: 32px;\n",
              "      padding: 0 0 0 0;\n",
              "      width: 32px;\n",
              "    }\n",
              "\n",
              "    .colab-df-convert:hover {\n",
              "      background-color: #E2EBFA;\n",
              "      box-shadow: 0px 1px 2px rgba(60, 64, 67, 0.3), 0px 1px 3px 1px rgba(60, 64, 67, 0.15);\n",
              "      fill: #174EA6;\n",
              "    }\n",
              "\n",
              "    .colab-df-buttons div {\n",
              "      margin-bottom: 4px;\n",
              "    }\n",
              "\n",
              "    [theme=dark] .colab-df-convert {\n",
              "      background-color: #3B4455;\n",
              "      fill: #D2E3FC;\n",
              "    }\n",
              "\n",
              "    [theme=dark] .colab-df-convert:hover {\n",
              "      background-color: #434B5C;\n",
              "      box-shadow: 0px 1px 3px 1px rgba(0, 0, 0, 0.15);\n",
              "      filter: drop-shadow(0px 1px 2px rgba(0, 0, 0, 0.3));\n",
              "      fill: #FFFFFF;\n",
              "    }\n",
              "  </style>\n",
              "\n",
              "    <script>\n",
              "      const buttonEl =\n",
              "        document.querySelector('#df-edf551df-62c9-4d17-85c9-050d14ddb295 button.colab-df-convert');\n",
              "      buttonEl.style.display =\n",
              "        google.colab.kernel.accessAllowed ? 'block' : 'none';\n",
              "\n",
              "      async function convertToInteractive(key) {\n",
              "        const element = document.querySelector('#df-edf551df-62c9-4d17-85c9-050d14ddb295');\n",
              "        const dataTable =\n",
              "          await google.colab.kernel.invokeFunction('convertToInteractive',\n",
              "                                                    [key], {});\n",
              "        if (!dataTable) return;\n",
              "\n",
              "        const docLinkHtml = 'Like what you see? Visit the ' +\n",
              "          '<a target=\"_blank\" href=https://colab.research.google.com/notebooks/data_table.ipynb>data table notebook</a>'\n",
              "          + ' to learn more about interactive tables.';\n",
              "        element.innerHTML = '';\n",
              "        dataTable['output_type'] = 'display_data';\n",
              "        await google.colab.output.renderOutput(dataTable, element);\n",
              "        const docLink = document.createElement('div');\n",
              "        docLink.innerHTML = docLinkHtml;\n",
              "        element.appendChild(docLink);\n",
              "      }\n",
              "    </script>\n",
              "  </div>\n",
              "\n",
              "\n",
              "<div id=\"df-12ccfbd5-4e10-48dd-ae18-ac36a30f5f96\">\n",
              "  <button class=\"colab-df-quickchart\" onclick=\"quickchart('df-12ccfbd5-4e10-48dd-ae18-ac36a30f5f96')\"\n",
              "            title=\"Suggest charts\"\n",
              "            style=\"display:none;\">\n",
              "\n",
              "<svg xmlns=\"http://www.w3.org/2000/svg\" height=\"24px\"viewBox=\"0 0 24 24\"\n",
              "     width=\"24px\">\n",
              "    <g>\n",
              "        <path d=\"M19 3H5c-1.1 0-2 .9-2 2v14c0 1.1.9 2 2 2h14c1.1 0 2-.9 2-2V5c0-1.1-.9-2-2-2zM9 17H7v-7h2v7zm4 0h-2V7h2v10zm4 0h-2v-4h2v4z\"/>\n",
              "    </g>\n",
              "</svg>\n",
              "  </button>\n",
              "\n",
              "<style>\n",
              "  .colab-df-quickchart {\n",
              "      --bg-color: #E8F0FE;\n",
              "      --fill-color: #1967D2;\n",
              "      --hover-bg-color: #E2EBFA;\n",
              "      --hover-fill-color: #174EA6;\n",
              "      --disabled-fill-color: #AAA;\n",
              "      --disabled-bg-color: #DDD;\n",
              "  }\n",
              "\n",
              "  [theme=dark] .colab-df-quickchart {\n",
              "      --bg-color: #3B4455;\n",
              "      --fill-color: #D2E3FC;\n",
              "      --hover-bg-color: #434B5C;\n",
              "      --hover-fill-color: #FFFFFF;\n",
              "      --disabled-bg-color: #3B4455;\n",
              "      --disabled-fill-color: #666;\n",
              "  }\n",
              "\n",
              "  .colab-df-quickchart {\n",
              "    background-color: var(--bg-color);\n",
              "    border: none;\n",
              "    border-radius: 50%;\n",
              "    cursor: pointer;\n",
              "    display: none;\n",
              "    fill: var(--fill-color);\n",
              "    height: 32px;\n",
              "    padding: 0;\n",
              "    width: 32px;\n",
              "  }\n",
              "\n",
              "  .colab-df-quickchart:hover {\n",
              "    background-color: var(--hover-bg-color);\n",
              "    box-shadow: 0 1px 2px rgba(60, 64, 67, 0.3), 0 1px 3px 1px rgba(60, 64, 67, 0.15);\n",
              "    fill: var(--button-hover-fill-color);\n",
              "  }\n",
              "\n",
              "  .colab-df-quickchart-complete:disabled,\n",
              "  .colab-df-quickchart-complete:disabled:hover {\n",
              "    background-color: var(--disabled-bg-color);\n",
              "    fill: var(--disabled-fill-color);\n",
              "    box-shadow: none;\n",
              "  }\n",
              "\n",
              "  .colab-df-spinner {\n",
              "    border: 2px solid var(--fill-color);\n",
              "    border-color: transparent;\n",
              "    border-bottom-color: var(--fill-color);\n",
              "    animation:\n",
              "      spin 1s steps(1) infinite;\n",
              "  }\n",
              "\n",
              "  @keyframes spin {\n",
              "    0% {\n",
              "      border-color: transparent;\n",
              "      border-bottom-color: var(--fill-color);\n",
              "      border-left-color: var(--fill-color);\n",
              "    }\n",
              "    20% {\n",
              "      border-color: transparent;\n",
              "      border-left-color: var(--fill-color);\n",
              "      border-top-color: var(--fill-color);\n",
              "    }\n",
              "    30% {\n",
              "      border-color: transparent;\n",
              "      border-left-color: var(--fill-color);\n",
              "      border-top-color: var(--fill-color);\n",
              "      border-right-color: var(--fill-color);\n",
              "    }\n",
              "    40% {\n",
              "      border-color: transparent;\n",
              "      border-right-color: var(--fill-color);\n",
              "      border-top-color: var(--fill-color);\n",
              "    }\n",
              "    60% {\n",
              "      border-color: transparent;\n",
              "      border-right-color: var(--fill-color);\n",
              "    }\n",
              "    80% {\n",
              "      border-color: transparent;\n",
              "      border-right-color: var(--fill-color);\n",
              "      border-bottom-color: var(--fill-color);\n",
              "    }\n",
              "    90% {\n",
              "      border-color: transparent;\n",
              "      border-bottom-color: var(--fill-color);\n",
              "    }\n",
              "  }\n",
              "</style>\n",
              "\n",
              "  <script>\n",
              "    async function quickchart(key) {\n",
              "      const quickchartButtonEl =\n",
              "        document.querySelector('#' + key + ' button');\n",
              "      quickchartButtonEl.disabled = true;  // To prevent multiple clicks.\n",
              "      quickchartButtonEl.classList.add('colab-df-spinner');\n",
              "      try {\n",
              "        const charts = await google.colab.kernel.invokeFunction(\n",
              "            'suggestCharts', [key], {});\n",
              "      } catch (error) {\n",
              "        console.error('Error during call to suggestCharts:', error);\n",
              "      }\n",
              "      quickchartButtonEl.classList.remove('colab-df-spinner');\n",
              "      quickchartButtonEl.classList.add('colab-df-quickchart-complete');\n",
              "    }\n",
              "    (() => {\n",
              "      let quickchartButtonEl =\n",
              "        document.querySelector('#df-12ccfbd5-4e10-48dd-ae18-ac36a30f5f96 button');\n",
              "      quickchartButtonEl.style.display =\n",
              "        google.colab.kernel.accessAllowed ? 'block' : 'none';\n",
              "    })();\n",
              "  </script>\n",
              "</div>\n",
              "    </div>\n",
              "  </div>\n"
            ],
            "application/vnd.google.colaboratory.intrinsic+json": {
              "type": "dataframe",
              "summary": "{\n  \"name\": \"df[:10][['query', 'reference_contexts', 'reference_answer']]\",\n  \"rows\": 10,\n  \"fields\": [\n    {\n      \"column\": \"query\",\n      \"properties\": {\n        \"dtype\": \"string\",\n        \"num_unique_values\": 10,\n        \"samples\": [\n          \"Quelles sont les conditions sous lesquelles les fournisseurs de mod\\u00e8les d'IA \\u00e0 usage g\\u00e9n\\u00e9ral doivent obtenir une autorisation des titulaires de droits pour proc\\u00e9der \\u00e0 une fouille de textes et de donn\\u00e9es sur des \\u0153uvres prot\\u00e9g\\u00e9es par le droit d'auteur ?\",\n          \"Comment les mod\\u00e8les d'IA \\u00e0 usage g\\u00e9n\\u00e9ral pr\\u00e9sentant un risque syst\\u00e9mique doivent-ils \\u00eatre trait\\u00e9s en vertu du r\\u00e8glement europ\\u00e9en \\u00e9voqu\\u00e9 dans le texte ?\",\n          \"Quels sont les crit\\u00e8res qui d\\u00e9terminent si un composant d'IA peut \\u00eatre consid\\u00e9r\\u00e9 comme libre et ouvert selon la loi europ\\u00e9enne \\u00e9voqu\\u00e9e, et quelles sont les restrictions concernant la mon\\u00e9tisation de ces composants ?\"\n        ],\n        \"semantic_type\": \"\",\n        \"description\": \"\"\n      }\n    },\n    {\n      \"column\": \"reference_contexts\",\n      \"properties\": {\n        \"dtype\": \"object\",\n        \"semantic_type\": \"\",\n        \"description\": \"\"\n      }\n    },\n    {\n      \"column\": \"reference_answer\",\n      \"properties\": {\n        \"dtype\": \"string\",\n        \"num_unique_values\": 10,\n        \"samples\": [\n          \"Les fournisseurs de mod\\u00e8les d'IA \\u00e0 usage g\\u00e9n\\u00e9ral doivent obtenir une autorisation des titulaires de droits pour proc\\u00e9der \\u00e0 une fouille de textes et de donn\\u00e9es sur des \\u0153uvres prot\\u00e9g\\u00e9es par le droit d'auteur lorsque les titulaires de droits ont express\\u00e9ment r\\u00e9serv\\u00e9 leurs droits sur leurs \\u0153uvres afin d'emp\\u00eacher cette fouille, \\u00e0 moins que celle-ci ne soit effectu\\u00e9e \\u00e0 des fins de recherche scientifique.\",\n          \"Les mod\\u00e8les d'IA \\u00e0 usage g\\u00e9n\\u00e9ral pr\\u00e9sentant un risque syst\\u00e9mique doivent toujours \\u00eatre soumis aux obligations pertinentes pr\\u00e9vues par le r\\u00e8glement europ\\u00e9en, en plus des obligations applicables aux syst\\u00e8mes d'IA. Ces mod\\u00e8les doivent \\u00eatre consid\\u00e9r\\u00e9s comme \\u00e9tant mis sur le march\\u00e9 et les obligations pour les mod\\u00e8les doivent continuer de s'appliquer. Il est important de prendre en compte les effets potentiellement tr\\u00e8s n\\u00e9gatifs de ces mod\\u00e8les et de garantir qu'ils respectent les normes et r\\u00e9glementations en vigueur pour assurer la s\\u00e9curit\\u00e9 et la protection des droits des individus.\",\n          \"Selon le r\\u00e8glement europ\\u00e9en \\u00e9voqu\\u00e9, un composant d'IA peut \\u00eatre consid\\u00e9r\\u00e9 comme libre et ouvert s'il est publi\\u00e9 sous une licence libre et ouverte qui permet aux utilisateurs de consulter, utiliser, modifier et redistribuer librement les logiciels et donn\\u00e9es, y compris les mod\\u00e8les. De plus, pour garantir des niveaux \\u00e9lev\\u00e9s de transparence et d'ouverture, les param\\u00e8tres du mod\\u00e8le, tels que les poids, l'architecture du mod\\u00e8le et l'utilisation du mod\\u00e8le, doivent \\u00eatre rendus publics. La licence doit \\u00e9galement permettre aux utilisateurs d'exploiter, copier, distribuer, \\u00e9tudier, modifier et am\\u00e9liorer les logiciels et donn\\u00e9es, en cr\\u00e9ditant le fournisseur initial du mod\\u00e8le et en respectant des conditions de distribution identiques ou comparables.\\n\\nEn ce qui concerne la mon\\u00e9tisation des composants d'IA, ceux qui sont fournis contre paiement ou mon\\u00e9tis\\u00e9s, y compris par la fourniture de services ou de soutien technique, ne b\\u00e9n\\u00e9ficient pas des exceptions pr\\u00e9vues pour les composants d'IA libres et ouverts. De plus, l'utilisation de donn\\u00e9es \\u00e0 caract\\u00e8re personnel \\u00e0 des fins autres que l'am\\u00e9lioration de la s\\u00e9curit\\u00e9, de la compatibilit\\u00e9 ou de l'interop\\u00e9rabilit\\u00e9 des logiciels est \\u00e9galement restreinte, \\u00e0 l'exception des transactions entre micro-entreprises. La mise \\u00e0 disposition de composants d'IA via des r\\u00e9f\\u00e9rentiels ouverts ne constitue pas en soi une mon\\u00e9tisation.\"\n        ],\n        \"semantic_type\": \"\",\n        \"description\": \"\"\n      }\n    }\n  ]\n}"
            }
          },
          "metadata": {},
          "execution_count": 41
        }
      ]
    },
    {
      "cell_type": "code",
      "source": [
        "df.iloc[1][['query', 'reference_contexts', 'reference_answer']]"
      ],
      "metadata": {
        "colab": {
          "base_uri": "https://localhost:8080/"
        },
        "id": "kEODWS7Fvcfo",
        "outputId": "844e704b-aa48-41d4-e2fb-7f939d1da131"
      },
      "execution_count": 44,
      "outputs": [
        {
          "output_type": "execute_result",
          "data": {
            "text/plain": [
              "query                 Comment les modèles d'IA à usage général prése...\n",
              "reference_contexts    [FRUnie dans la diversitéFRLorsque le fourniss...\n",
              "reference_answer      Les modèles d'IA à usage général présentant un...\n",
              "Name: 1, dtype: object"
            ]
          },
          "metadata": {},
          "execution_count": 44
        }
      ]
    },
    {
      "cell_type": "code",
      "source": [],
      "metadata": {
        "id": "qayF2GTGxyEV"
      },
      "execution_count": null,
      "outputs": []
    },
    {
      "cell_type": "markdown",
      "source": [
        "### Création du dataset sur le serveur Argilla"
      ],
      "metadata": {
        "id": "27WOb_i8ws86"
      }
    },
    {
      "cell_type": "code",
      "source": [
        "for index, row in df.iterrows():\n",
        "            question = row['query']\n",
        "            answer = row['reference_answer']\n",
        "            query_by = row['query_by']\n",
        "            answer_by = row['reference_answer_by']\n",
        "            record = rg.FeedbackRecord(\n",
        "            fields={\n",
        "                \"question\": question,\n",
        "                'human_question' : \"\",\n",
        "                \"answer\": answer,\n",
        "                'human_answer' : \"\",\n",
        "\n",
        "            },\n",
        "            metadata= {\n",
        "                'query_by' : query_by,\n",
        "                 'answer_by' : answer_by\n",
        "                }\n",
        "            )\n",
        "            dataset.add_records(record)\n",
        "dataset.push_to_argilla(name=\"IA Act\", workspace=\"admin\")\n"
      ],
      "metadata": {
        "colab": {
          "base_uri": "https://localhost:8080/",
          "height": 696,
          "referenced_widgets": [
            "5fceacf1713546bfa817bd2d4c45f489",
            "ec3b3f915a884b4186b504bbaed76a0b"
          ]
        },
        "collapsed": true,
        "id": "DHKPHMr0woaB",
        "outputId": "3e90d62b-f088-414d-8994-0a9efe1a83fc"
      },
      "execution_count": 48,
      "outputs": [
        {
          "output_type": "display_data",
          "data": {
            "text/plain": [
              "Output()"
            ],
            "application/vnd.jupyter.widget-view+json": {
              "version_major": 2,
              "version_minor": 0,
              "model_id": "5fceacf1713546bfa817bd2d4c45f489"
            }
          },
          "metadata": {}
        },
        {
          "output_type": "display_data",
          "data": {
            "text/plain": [],
            "text/html": [
              "<pre style=\"white-space:pre;overflow-x:auto;line-height:normal;font-family:Menlo,'DejaVu Sans Mono',consolas,'Courier New',monospace\"></pre>\n"
            ]
          },
          "metadata": {}
        },
        {
          "output_type": "display_data",
          "data": {
            "text/plain": [
              "\n"
            ],
            "text/html": [
              "<pre style=\"white-space:pre;overflow-x:auto;line-height:normal;font-family:Menlo,'DejaVu Sans Mono',consolas,'Courier New',monospace\">\n",
              "</pre>\n"
            ]
          },
          "metadata": {}
        },
        {
          "output_type": "stream",
          "name": "stderr",
          "text": [
            "INFO:argilla.client.feedback.dataset.local.mixins:✓ Dataset succesfully pushed to Argilla\n",
            "INFO:argilla.client.feedback.dataset.local.mixins:RemoteFeedbackDataset(\n",
            "   id=3886c001-3a69-4a1a-816a-c27d87796948\n",
            "   name=IA Act\n",
            "   workspace=Workspace(id=99667030-16b8-43b7-8ffb-f6eb4c70e7e4, name=admin, inserted_at=2024-05-20 08:34:55.659117, updated_at=2024-05-20 08:34:55.659117)\n",
            "   url=https://raphbreizh-legalgpt.hf.space/dataset/3886c001-3a69-4a1a-816a-c27d87796948/annotation-mode\n",
            "   fields=[RemoteTextField(id=UUID('1e7c6e27-5374-48d5-bf30-cca08f5add89'), client=None, name='question', title='Synthetic question', required=True, type='text', use_markdown=False), RemoteTextField(id=UUID('c0ef6659-483e-4b91-b1ae-11081366174d'), client=None, name='human_question', title='Human question', required=True, type='text', use_markdown=False), RemoteTextField(id=UUID('bc6bbecb-a193-4954-b32d-f90428e33f78'), client=None, name='answer', title='Generated output', required=True, type='text', use_markdown=True), RemoteTextField(id=UUID('fda8ac35-c664-4bfa-9179-82a4d8bde3cc'), client=None, name='human_answer', title='human output', required=True, type='text', use_markdown=True)]\n",
            "   questions=[RemoteRatingQuestion(id=UUID('68dcbf13-7614-4aad-946c-6e19fd346748'), client=None, name='rating', title='Rate the quality of the response:', description='1 = very bad - 5= very good', required=True, type='rating', values=[1, 2, 3, 4, 5]), RemoteTextQuestion(id=UUID('b14fd9a0-d121-45c0-b5e1-0a42871f1fcc'), client=None, name='corrected-text', title='Provide a correction to the response:', description=None, required=False, type='text', use_markdown=True)]\n",
            "   guidelines=Ce jeux de données visent à optimiser les réponses d'un modèle de langage sur l'IA Act.\n",
            "   metadata_properties=[]\n",
            "   vectors_settings=[]\n",
            ")\n"
          ]
        },
        {
          "output_type": "execute_result",
          "data": {
            "text/plain": [
              "RemoteFeedbackDataset(\n",
              "   id=3886c001-3a69-4a1a-816a-c27d87796948\n",
              "   name=IA Act\n",
              "   workspace=Workspace(id=99667030-16b8-43b7-8ffb-f6eb4c70e7e4, name=admin, inserted_at=2024-05-20 08:34:55.659117, updated_at=2024-05-20 08:34:55.659117)\n",
              "   url=https://raphbreizh-legalgpt.hf.space/dataset/3886c001-3a69-4a1a-816a-c27d87796948/annotation-mode\n",
              "   fields=[RemoteTextField(id=UUID('1e7c6e27-5374-48d5-bf30-cca08f5add89'), client=None, name='question', title='Synthetic question', required=True, type='text', use_markdown=False), RemoteTextField(id=UUID('c0ef6659-483e-4b91-b1ae-11081366174d'), client=None, name='human_question', title='Human question', required=True, type='text', use_markdown=False), RemoteTextField(id=UUID('bc6bbecb-a193-4954-b32d-f90428e33f78'), client=None, name='answer', title='Generated output', required=True, type='text', use_markdown=True), RemoteTextField(id=UUID('fda8ac35-c664-4bfa-9179-82a4d8bde3cc'), client=None, name='human_answer', title='human output', required=True, type='text', use_markdown=True)]\n",
              "   questions=[RemoteRatingQuestion(id=UUID('68dcbf13-7614-4aad-946c-6e19fd346748'), client=None, name='rating', title='Rate the quality of the response:', description='1 = very bad - 5= very good', required=True, type='rating', values=[1, 2, 3, 4, 5]), RemoteTextQuestion(id=UUID('b14fd9a0-d121-45c0-b5e1-0a42871f1fcc'), client=None, name='corrected-text', title='Provide a correction to the response:', description=None, required=False, type='text', use_markdown=True)]\n",
              "   guidelines=Ce jeux de données visent à optimiser les réponses d'un modèle de langage sur l'IA Act.\n",
              "   metadata_properties=[]\n",
              "   vectors_settings=[]\n",
              ")"
            ]
          },
          "metadata": {},
          "execution_count": 48
        }
      ]
    },
    {
      "cell_type": "markdown",
      "source": [],
      "metadata": {
        "id": "0j5HZ0TLtOxm"
      }
    }
  ]
}