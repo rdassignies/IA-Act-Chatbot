{
  "cells": [
    {
      "cell_type": "code",
      "execution_count": null,
      "metadata": {
        "id": "B_s8zIvoz_yI"
      },
      "outputs": [],
      "source": [
        "! pip install llama-index"
      ]
    },
    {
      "cell_type": "code",
      "execution_count": 4,
      "metadata": {
        "id": "wZGd39oW0Sby"
      },
      "outputs": [],
      "source": [
        "from llama_index.core import SimpleDirectoryReader, VectorStoreIndex\n",
        "from llama_index.core.node_parser import SentenceSplitter"
      ]
    },
    {
      "cell_type": "code",
      "execution_count": null,
      "metadata": {
        "id": "OgX9Il4S0qgs"
      },
      "outputs": [],
      "source": [
        "# On lit les documents depuis le répertoire\n",
        "reader = SimpleDirectoryReader(input_dir=\"/content/docs/\")\n",
        "documents = reader.load_data()"
      ]
    },
    {
      "cell_type": "code",
      "execution_count": 18,
      "metadata": {
        "id": "tC1EiGkb2b1X"
      },
      "outputs": [],
      "source": [
        "# Llama index s'occupe d'indexer les documents et de les stocker pour interrogation\n",
        "index = VectorStoreIndex.from_documents(documents)"
      ]
    },
    {
      "cell_type": "code",
      "execution_count": 19,
      "metadata": {
        "id": "VrmvVYWb2zUG"
      },
      "outputs": [],
      "source": [
        "# On créé un chatbot prêt à l'emploi\n",
        "chat_engine = index.as_chat_engine(chat_mode=\"condense_question\", verbose=True)"
      ]
    },
    {
      "cell_type": "code",
      "execution_count": 20,
      "metadata": {
        "id": "eIaD9gok22YW"
      },
      "outputs": [],
      "source": [
        "# et on pose nos questions ... \n",
        "question = \"Peux tu me définir ce qu'est un modèle de fondation dans l'IA Act ? \""
      ]
    },
    {
      "cell_type": "code",
      "execution_count": 21,
      "metadata": {
        "colab": {
          "base_uri": "https://localhost:8080/"
        },
        "id": "x_ARtZzg3CPp",
        "outputId": "d53a1577-ebf0-4a28-a876-f14c69155b42"
      },
      "outputs": [
        {
          "name": "stdout",
          "output_type": "stream",
          "text": [
            "Querying with: Peux tu me définir ce qu'est un modèle de fondation dans l'IA Act ? \n"
          ]
        }
      ],
      "source": [
        "response = chat_engine.chat(question)"
      ]
    },
    {
      "cell_type": "code",
      "execution_count": 22,
      "metadata": {
        "colab": {
          "base_uri": "https://localhost:8080/"
        },
        "id": "obNe4Ro63EIr",
        "outputId": "6a2adbf5-f7a1-4143-8c58-10bbdc09f453"
      },
      "outputs": [
        {
          "name": "stdout",
          "output_type": "stream",
          "text": [
            "Un modèle de fondation dans l'IA Act est un modèle d'IA à usage général qui est clairement défini et distinct de la notion de systèmes d'IA. Il se caractérise par sa capacité à exécuter de manière compétente un large éventail de tâches distinctes, généralement entraîné avec de grandes quantités de données à travers diverses méthodes telles que l'apprentissage auto-supervisé, non supervisé ou par renforcement. Ces modèles peuvent être mis sur le marché de différentes manières, mais ils nécessitent l'ajout d'autres composants, comme une interface utilisateur, pour devenir des systèmes d'IA.\n"
          ]
        }
      ],
      "source": [
        "print(response)"
      ]
    },
    {
      "cell_type": "code",
      "execution_count": 24,
      "metadata": {
        "colab": {
          "base_uri": "https://localhost:8080/"
        },
        "id": "zSkR4TMh36Se",
        "outputId": "dd492ee0-7ede-4300-9cbc-31d205d8a5dc"
      },
      "outputs": [
        {
          "name": "stdout",
          "output_type": "stream",
          "text": [
            "Querying with: Quelles sont les relations entre les systèmes d'IA et les modèles à usage général dans l'IA Act ?\n",
            "Les modèles d'IA à usage général sont des composants essentiels des systèmes d'IA, mais ils ne constituent pas des systèmes d'IA en soi. Pour devenir des systèmes d'IA, les modèles d'IA nécessitent l'ajout d'autres composants tels qu'une interface utilisateur. Lorsqu'un modèle d'IA à usage général est intégré dans un système d'IA ou en fait partie, ce système est considéré comme un système d'IA à usage général, ce qui lui confère la capacité de répondre à divers usages.\n"
          ]
        }
      ],
      "source": [
        "response = chat_engine.chat(\"Peux tu m'en dire plus sur les relations entre les systèmes d'IA et les modèles à usage général dans l'IA Act\")\n",
        "print(response)"
      ]
    },
    {
      "cell_type": "code",
      "execution_count": 25,
      "metadata": {
        "colab": {
          "base_uri": "https://localhost:8080/"
        },
        "id": "0QEHOm5L5RXt",
        "outputId": "6ad8e77f-9c79-405c-c3c3-219de562f37a"
      },
      "outputs": [
        {
          "name": "stdout",
          "output_type": "stream",
          "text": [
            "Querying with: Quel régime juridique est prévu pour les modèles à usage général dans l'IA Act ?\n",
            "Les modèles à usage général dans l'IA Act sont soumis à un régime juridique qui prévoit des obligations spécifiques pour ces modèles. Ces obligations continuent de s'appliquer une fois que les modèles à usage général sont mis sur le marché, en plus des obligations applicables aux systèmes d'IA. Les modèles d'IA à usage général présentant un risque systémique doivent toujours respecter les obligations pertinentes énoncées dans l'IA Act.\n"
          ]
        }
      ],
      "source": [
        "response = chat_engine.chat(\"Quel régime juridique est prévu pour les modèles à usage général ? \")\n",
        "print(response)"
      ]
    },
    {
      "cell_type": "code",
      "execution_count": 26,
      "metadata": {
        "colab": {
          "base_uri": "https://localhost:8080/"
        },
        "id": "S17T_TBN5kdO",
        "outputId": "1e700a9e-d639-49ae-b692-aed9423136c6"
      },
      "outputs": [
        {
          "name": "stdout",
          "output_type": "stream",
          "text": [
            "Querying with: Quelles sont les obligations spécifiques prévues pour les modèles à usage général dans l'IA Act?\n",
            "Les obligations spécifiques prévues pour les modèles à usage général dans l'IA Act incluent l'élaboration et la mise à jour de la documentation technique du modèle, y compris son processus d'entraînement et d'essai, ainsi que les résultats de son évaluation. De plus, les fournisseurs doivent élaborer, tenir à jour et mettre à disposition des informations et de la documentation pour les fournisseurs de systèmes d'IA qui envisagent d'intégrer le modèle d'IA à usage général dans leurs systèmes, afin de leur permettre de comprendre les capacités et les limites du modèle et de se conformer aux obligations du règlement.\n"
          ]
        }
      ],
      "source": [
        "# On remarque au passage la reformulation de la question ! \n",
        "response = chat_engine.chat(\"Ta réponse est trop vague, peux tu me décrire précisément les obligations qui sont prévues ? \")\n",
        "print(response)"
      ]
    },
    {
      "cell_type": "markdown",
      "metadata": {
        "id": "T5WH7mMa5RIV"
      },
      "source": []
    }
  ],
  "metadata": {
    "colab": {
      "provenance": []
    },
    "kernelspec": {
      "display_name": "Python 3",
      "name": "python3"
    },
    "language_info": {
      "name": "python"
    }
  },
  "nbformat": 4,
  "nbformat_minor": 0
}
